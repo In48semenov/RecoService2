{
 "cells": [
  {
   "cell_type": "code",
   "execution_count": 1,
   "id": "180583fc",
   "metadata": {},
   "outputs": [
    {
     "data": {
      "text/plain": [
       "'0.6.2'"
      ]
     },
     "execution_count": 1,
     "metadata": {},
     "output_type": "execute_result"
    }
   ],
   "source": [
    "# import implicit\n",
    "\n",
    "# implicit.__version__"
   ]
  },
  {
   "cell_type": "code",
   "execution_count": 71,
   "id": "5ecf20a8",
   "metadata": {},
   "outputs": [],
   "source": [
    "import dill\n",
    "import typing as tp\n",
    "\n",
    "import numpy as np\n",
    "import pandas as pd\n",
    "from scipy.sparse import coo_matrix, csr_matrix\n",
    "# from rectools import Columns"
   ]
  },
  {
   "cell_type": "code",
   "execution_count": 72,
   "id": "1a267d20",
   "metadata": {},
   "outputs": [],
   "source": [
    "def inv_mapping_implicit(df: pd.DataFrame) -> tp.Tuple[tp.Dict[int, int]]:\n",
    "    users_inv_mapping = dict(enumerate(df[\"user_id\"].unique()))\n",
    "    users_mapping = {v: k for k, v in users_inv_mapping.items()}\n",
    "    items_inv_mapping = dict(enumerate(df[\"item_id\"].unique()))\n",
    "    items_mapping = {v: k for k, v in items_inv_mapping.items()}\n",
    "    \n",
    "    return (users_inv_mapping, users_mapping, \n",
    "            items_inv_mapping, items_mapping)\n",
    "\n",
    "\n",
    "def create_data_implicit(\n",
    "    df: pd.DataFrame,\n",
    "    user_col: str = \"user_id\",\n",
    "    item_col: str = \"item_id\",\n",
    "    weight_col: str = None,\n",
    "    users_mapping: tp.Dict[int, int] = None,\n",
    "    items_mapping: tp.Dict[int, int] = None,\n",
    ") -> csr_matrix:\n",
    "\n",
    "    if weight_col:\n",
    "        weights = df[weight_col].astype(np.float32)\n",
    "    else:\n",
    "        weights = np.ones(len(df), dtype=np.float32)\n",
    "\n",
    "    interaction_matrix = coo_matrix((\n",
    "        weights,\n",
    "        (\n",
    "            df[user_col].map(users_mapping.get),\n",
    "            df[item_col].map(items_mapping.get)\n",
    "        )\n",
    "    ))\n",
    "\n",
    "    return interaction_matrix.tocsr()"
   ]
  },
  {
   "cell_type": "code",
   "execution_count": 73,
   "id": "2eca642a",
   "metadata": {},
   "outputs": [],
   "source": [
    "with open(\"../service/weights/als/als_model-implicit.dill\", \"rb\") as file:\n",
    "    als_model = dill.load(file)"
   ]
  },
  {
   "cell_type": "code",
   "execution_count": 74,
   "id": "74be4622",
   "metadata": {},
   "outputs": [
    {
     "data": {
      "text/plain": [
       "<implicit.cpu.als.AlternatingLeastSquares at 0x7fd746f4d400>"
      ]
     },
     "execution_count": 74,
     "metadata": {},
     "output_type": "execute_result"
    }
   ],
   "source": [
    "als_model"
   ]
  },
  {
   "cell_type": "code",
   "execution_count": 75,
   "id": "7d81b1f2",
   "metadata": {},
   "outputs": [
    {
     "data": {
      "text/html": [
       "<div>\n",
       "<style scoped>\n",
       "    .dataframe tbody tr th:only-of-type {\n",
       "        vertical-align: middle;\n",
       "    }\n",
       "\n",
       "    .dataframe tbody tr th {\n",
       "        vertical-align: top;\n",
       "    }\n",
       "\n",
       "    .dataframe thead th {\n",
       "        text-align: right;\n",
       "    }\n",
       "</style>\n",
       "<table border=\"1\" class=\"dataframe\">\n",
       "  <thead>\n",
       "    <tr style=\"text-align: right;\">\n",
       "      <th></th>\n",
       "      <th>user_id</th>\n",
       "      <th>item_id</th>\n",
       "      <th>last_watch_dt</th>\n",
       "      <th>total_dur</th>\n",
       "      <th>watched_pct</th>\n",
       "    </tr>\n",
       "  </thead>\n",
       "  <tbody>\n",
       "    <tr>\n",
       "      <th>0</th>\n",
       "      <td>176549</td>\n",
       "      <td>9506</td>\n",
       "      <td>2021-05-11</td>\n",
       "      <td>4250</td>\n",
       "      <td>72.0</td>\n",
       "    </tr>\n",
       "    <tr>\n",
       "      <th>1</th>\n",
       "      <td>699317</td>\n",
       "      <td>1659</td>\n",
       "      <td>2021-05-29</td>\n",
       "      <td>8317</td>\n",
       "      <td>100.0</td>\n",
       "    </tr>\n",
       "    <tr>\n",
       "      <th>2</th>\n",
       "      <td>656683</td>\n",
       "      <td>7107</td>\n",
       "      <td>2021-05-09</td>\n",
       "      <td>10</td>\n",
       "      <td>0.0</td>\n",
       "    </tr>\n",
       "    <tr>\n",
       "      <th>3</th>\n",
       "      <td>864613</td>\n",
       "      <td>7638</td>\n",
       "      <td>2021-07-05</td>\n",
       "      <td>14483</td>\n",
       "      <td>100.0</td>\n",
       "    </tr>\n",
       "    <tr>\n",
       "      <th>4</th>\n",
       "      <td>964868</td>\n",
       "      <td>9506</td>\n",
       "      <td>2021-04-30</td>\n",
       "      <td>6725</td>\n",
       "      <td>100.0</td>\n",
       "    </tr>\n",
       "  </tbody>\n",
       "</table>\n",
       "</div>"
      ],
      "text/plain": [
       "   user_id  item_id last_watch_dt  total_dur  watched_pct\n",
       "0   176549     9506    2021-05-11       4250         72.0\n",
       "1   699317     1659    2021-05-29       8317        100.0\n",
       "2   656683     7107    2021-05-09         10          0.0\n",
       "3   864613     7638    2021-07-05      14483        100.0\n",
       "4   964868     9506    2021-04-30       6725        100.0"
      ]
     },
     "execution_count": 75,
     "metadata": {},
     "output_type": "execute_result"
    }
   ],
   "source": [
    "interaction = pd.read_csv(\"../service/data/kion_train/interactions.csv\")\n",
    "users_inv_mapping, users_mapping, items_inv_mapping, items_mapping = inv_mapping_implicit(interaction)\n",
    "interaction.head()"
   ]
  },
  {
   "cell_type": "code",
   "execution_count": 76,
   "id": "120f5864",
   "metadata": {},
   "outputs": [],
   "source": [
    "interaction_csr = create_data_implicit(interaction, \n",
    "                                       users_mapping=users_mapping,\n",
    "                                       items_mapping=items_mapping)"
   ]
  },
  {
   "cell_type": "code",
   "execution_count": 78,
   "id": "30ba5e70",
   "metadata": {},
   "outputs": [
    {
     "data": {
      "text/plain": [
       "0"
      ]
     },
     "execution_count": 78,
     "metadata": {},
     "output_type": "execute_result"
    }
   ],
   "source": [
    "users_mapping[176549]"
   ]
  },
  {
   "cell_type": "code",
   "execution_count": 79,
   "id": "8b44ab2c",
   "metadata": {},
   "outputs": [
    {
     "data": {
      "text/plain": [
       "154"
      ]
     },
     "execution_count": 79,
     "metadata": {},
     "output_type": "execute_result"
    }
   ],
   "source": [
    "items_mapping[14961]"
   ]
  },
  {
   "cell_type": "code",
   "execution_count": 84,
   "id": "86a792e7",
   "metadata": {},
   "outputs": [
    {
     "data": {
      "text/plain": [
       "<1x15706 sparse matrix of type '<class 'numpy.float32'>'\n",
       "\twith 82 stored elements in Compressed Sparse Row format>"
      ]
     },
     "execution_count": 84,
     "metadata": {},
     "output_type": "execute_result"
    }
   ],
   "source": [
    "interaction_csr[users_mapping[176549], :]"
   ]
  },
  {
   "cell_type": "code",
   "execution_count": 85,
   "id": "883d2fda",
   "metadata": {},
   "outputs": [],
   "source": [
    "total_score, top_contributions, user_weights = als_model.explain(\n",
    "    userid=users_mapping[176549], \n",
    "    user_items=interaction_csr[users_mapping[176549], :], \n",
    "    itemid=items_mapping[14961], \n",
    "    N=1,    \n",
    ")"
   ]
  },
  {
   "cell_type": "code",
   "execution_count": 86,
   "id": "74fa3a9c",
   "metadata": {},
   "outputs": [
    {
     "data": {
      "text/plain": [
       "0.2249994171324637"
      ]
     },
     "execution_count": 86,
     "metadata": {},
     "output_type": "execute_result"
    }
   ],
   "source": [
    "total_score"
   ]
  },
  {
   "cell_type": "code",
   "execution_count": 87,
   "id": "202b9351",
   "metadata": {},
   "outputs": [
    {
     "data": {
      "text/plain": [
       "[(0, 0.039123139446846054)]"
      ]
     },
     "execution_count": 87,
     "metadata": {},
     "output_type": "execute_result"
    }
   ],
   "source": [
    "top_contributions"
   ]
  },
  {
   "cell_type": "code",
   "execution_count": 88,
   "id": "d4afc172",
   "metadata": {},
   "outputs": [
    {
     "data": {
      "text/plain": [
       "(array([[ 3.36910139,  0.77692219, -0.44749499, ..., -0.07356536,\n",
       "          0.10533668, -0.1945123 ],\n",
       "        [ 2.61752963,  3.18335676, -0.12797315, ..., -0.03650882,\n",
       "         -0.17577712,  0.15673421],\n",
       "        [-1.50765598, -0.75505298,  3.28204727, ...,  0.74660746,\n",
       "          0.66196007,  0.67710987],\n",
       "        ...,\n",
       "        [-0.24784915, -0.17337516,  2.48799324, ...,  2.82770224,\n",
       "          0.28346185,  0.25478909],\n",
       "        [ 0.35488996, -0.47772288,  2.14794135, ...,  1.97889721,\n",
       "          2.8785997 ,  0.16512119],\n",
       "        [-0.65533167,  0.34781998,  2.2892921 , ...,  1.84158289,\n",
       "          1.3754648 ,  2.88617018]]),\n",
       " False)"
      ]
     },
     "execution_count": 88,
     "metadata": {},
     "output_type": "execute_result"
    }
   ],
   "source": [
    "user_weights"
   ]
  },
  {
   "cell_type": "code",
   "execution_count": 89,
   "id": "8654c61e",
   "metadata": {},
   "outputs": [
    {
     "data": {
      "text/plain": [
       "(array([154,  34, 322,   7, 270, 811, 337,  46, 400, 103], dtype=int32),\n",
       " array([0.22499946, 0.19111016, 0.18348461, 0.17867999, 0.17425005,\n",
       "        0.1571157 , 0.15565419, 0.15055306, 0.14768006, 0.14201121],\n",
       "       dtype=float32))"
      ]
     },
     "execution_count": 89,
     "metadata": {},
     "output_type": "execute_result"
    }
   ],
   "source": [
    "reco = als_model.recommend(\n",
    "    userid=users_mapping[176549],\n",
    "    user_items=interaction_csr[users_mapping[176549], :],\n",
    "    N=10,\n",
    "    filter_already_liked_items=True,\n",
    "    recalculate_user=True,\n",
    ")\n",
    "\n",
    "reco"
   ]
  },
  {
   "cell_type": "code",
   "execution_count": 90,
   "id": "85f9f7c1",
   "metadata": {},
   "outputs": [
    {
     "data": {
      "text/plain": [
       "0          176549\n",
       "1          699317\n",
       "2          656683\n",
       "3          864613\n",
       "4          964868\n",
       "            ...  \n",
       "5476246    648596\n",
       "5476247    546862\n",
       "5476248    697262\n",
       "5476249    384202\n",
       "5476250    319709\n",
       "Name: user_id, Length: 5476251, dtype: int64"
      ]
     },
     "execution_count": 90,
     "metadata": {},
     "output_type": "execute_result"
    }
   ],
   "source": [
    "interaction[\"user_id\"]"
   ]
  },
  {
   "cell_type": "code",
   "execution_count": 91,
   "id": "a333048b",
   "metadata": {},
   "outputs": [
    {
     "data": {
      "text/plain": [
       "<1x15706 sparse matrix of type '<class 'numpy.float32'>'\n",
       "\twith 7 stored elements in Compressed Sparse Row format>"
      ]
     },
     "execution_count": 91,
     "metadata": {},
     "output_type": "execute_result"
    }
   ],
   "source": [
    "interaction_csr[users_mapping[213024], :]"
   ]
  },
  {
   "cell_type": "code",
   "execution_count": 92,
   "id": "8ad0723a",
   "metadata": {},
   "outputs": [
    {
     "data": {
      "text/plain": [
       "224686"
      ]
     },
     "execution_count": 92,
     "metadata": {},
     "output_type": "execute_result"
    }
   ],
   "source": [
    "users_mapping[546862]"
   ]
  },
  {
   "cell_type": "code",
   "execution_count": 93,
   "id": "43c50baa",
   "metadata": {},
   "outputs": [
    {
     "ename": "IndexError",
     "evalue": "index 224686 is out of bounds for axis 0 with size 2",
     "output_type": "error",
     "traceback": [
      "\u001b[0;31m---------------------------------------------------------------------------\u001b[0m",
      "\u001b[0;31mIndexError\u001b[0m                                Traceback (most recent call last)",
      "Cell \u001b[0;32mIn [93], line 1\u001b[0m\n\u001b[0;32m----> 1\u001b[0m total_score, top_contributions, user_weights \u001b[38;5;241m=\u001b[39m \u001b[43mals_model\u001b[49m\u001b[38;5;241;43m.\u001b[39;49m\u001b[43mexplain\u001b[49m\u001b[43m(\u001b[49m\n\u001b[1;32m      2\u001b[0m \u001b[43m    \u001b[49m\u001b[43muserid\u001b[49m\u001b[38;5;241;43m=\u001b[39;49m\u001b[43musers_mapping\u001b[49m\u001b[43m[\u001b[49m\u001b[38;5;241;43m546862\u001b[39;49m\u001b[43m]\u001b[49m\u001b[43m,\u001b[49m\u001b[43m \u001b[49m\n\u001b[1;32m      3\u001b[0m \u001b[43m    \u001b[49m\u001b[43muser_items\u001b[49m\u001b[38;5;241;43m=\u001b[39;49m\u001b[43minteraction_csr\u001b[49m\u001b[43m[\u001b[49m\u001b[43musers_mapping\u001b[49m\u001b[43m[\u001b[49m\u001b[38;5;241;43m546862\u001b[39;49m\u001b[43m]\u001b[49m\u001b[43m,\u001b[49m\u001b[43m \u001b[49m\u001b[43m:\u001b[49m\u001b[43m]\u001b[49m\u001b[43m,\u001b[49m\u001b[43m \u001b[49m\n\u001b[1;32m      4\u001b[0m \u001b[43m    \u001b[49m\u001b[43mitemid\u001b[49m\u001b[38;5;241;43m=\u001b[39;49m\u001b[43mitems_inv_mapping\u001b[49m\u001b[43m[\u001b[49m\u001b[38;5;241;43m154\u001b[39;49m\u001b[43m]\u001b[49m\u001b[43m,\u001b[49m\u001b[43m \u001b[49m\n\u001b[1;32m      5\u001b[0m \u001b[43m    \u001b[49m\u001b[43mN\u001b[49m\u001b[38;5;241;43m=\u001b[39;49m\u001b[38;5;241;43m1\u001b[39;49m\u001b[43m,\u001b[49m\u001b[43m    \u001b[49m\n\u001b[1;32m      6\u001b[0m \u001b[43m)\u001b[49m\n",
      "File \u001b[0;32m~/PycharmProjects/ITMO/RecoService2/.venv/lib/python3.9/site-packages/implicit/cpu/als.py:376\u001b[0m, in \u001b[0;36mAlternatingLeastSquares.explain\u001b[0;34m(self, userid, user_items, itemid, user_weights, N)\u001b[0m\n\u001b[1;32m    373\u001b[0m \u001b[38;5;66;03m# user_weights = Cholesky decomposition of Wu^-1\u001b[39;00m\n\u001b[1;32m    374\u001b[0m \u001b[38;5;66;03m# from section 5 of the paper CF for Implicit Feedback Datasets\u001b[39;00m\n\u001b[1;32m    375\u001b[0m \u001b[38;5;28;01mif\u001b[39;00m user_weights \u001b[38;5;129;01mis\u001b[39;00m \u001b[38;5;28;01mNone\u001b[39;00m:\n\u001b[0;32m--> 376\u001b[0m     A, _ \u001b[38;5;241m=\u001b[39m \u001b[43muser_linear_equation\u001b[49m\u001b[43m(\u001b[49m\n\u001b[1;32m    377\u001b[0m \u001b[43m        \u001b[49m\u001b[38;5;28;43mself\u001b[39;49m\u001b[38;5;241;43m.\u001b[39;49m\u001b[43mitem_factors\u001b[49m\u001b[43m,\u001b[49m\u001b[43m \u001b[49m\u001b[38;5;28;43mself\u001b[39;49m\u001b[38;5;241;43m.\u001b[39;49m\u001b[43mYtY\u001b[49m\u001b[43m,\u001b[49m\u001b[43m \u001b[49m\u001b[43muser_items\u001b[49m\u001b[43m,\u001b[49m\u001b[43m \u001b[49m\u001b[43muserid\u001b[49m\u001b[43m,\u001b[49m\u001b[43m \u001b[49m\u001b[38;5;28;43mself\u001b[39;49m\u001b[38;5;241;43m.\u001b[39;49m\u001b[43mregularization\u001b[49m\u001b[43m,\u001b[49m\u001b[43m \u001b[49m\u001b[38;5;28;43mself\u001b[39;49m\u001b[38;5;241;43m.\u001b[39;49m\u001b[43mfactors\u001b[49m\n\u001b[1;32m    378\u001b[0m \u001b[43m    \u001b[49m\u001b[43m)\u001b[49m\n\u001b[1;32m    379\u001b[0m     user_weights \u001b[38;5;241m=\u001b[39m scipy\u001b[38;5;241m.\u001b[39mlinalg\u001b[38;5;241m.\u001b[39mcho_factor(A)\n\u001b[1;32m    380\u001b[0m seed_item \u001b[38;5;241m=\u001b[39m \u001b[38;5;28mself\u001b[39m\u001b[38;5;241m.\u001b[39mitem_factors[itemid]\n",
      "File \u001b[0;32m~/PycharmProjects/ITMO/RecoService2/.venv/lib/python3.9/site-packages/implicit/cpu/als.py:492\u001b[0m, in \u001b[0;36muser_linear_equation\u001b[0;34m(Y, YtY, Cui, u, regularization, n_factors)\u001b[0m\n\u001b[1;32m    489\u001b[0m \u001b[38;5;66;03m# accumulate YtCuPu in b\u001b[39;00m\n\u001b[1;32m    490\u001b[0m b \u001b[38;5;241m=\u001b[39m np\u001b[38;5;241m.\u001b[39mzeros(n_factors)\n\u001b[0;32m--> 492\u001b[0m \u001b[38;5;28;01mfor\u001b[39;00m i, confidence \u001b[38;5;129;01min\u001b[39;00m nonzeros(Cui, u):\n\u001b[1;32m    493\u001b[0m     factor \u001b[38;5;241m=\u001b[39m Y[i]\n\u001b[1;32m    495\u001b[0m     \u001b[38;5;28;01mif\u001b[39;00m confidence \u001b[38;5;241m>\u001b[39m \u001b[38;5;241m0\u001b[39m:\n",
      "File \u001b[0;32m~/PycharmProjects/ITMO/RecoService2/.venv/lib/python3.9/site-packages/implicit/utils.py:11\u001b[0m, in \u001b[0;36mnonzeros\u001b[0;34m(m, row)\u001b[0m\n\u001b[1;32m      9\u001b[0m \u001b[38;5;28;01mdef\u001b[39;00m \u001b[38;5;21mnonzeros\u001b[39m(m, row):\n\u001b[1;32m     10\u001b[0m     \u001b[38;5;124;03m\"\"\"returns the non zeroes of a row in csr_matrix\"\"\"\u001b[39;00m\n\u001b[0;32m---> 11\u001b[0m     \u001b[38;5;28;01mfor\u001b[39;00m index \u001b[38;5;129;01min\u001b[39;00m \u001b[38;5;28mrange\u001b[39m(\u001b[43mm\u001b[49m\u001b[38;5;241;43m.\u001b[39;49m\u001b[43mindptr\u001b[49m\u001b[43m[\u001b[49m\u001b[43mrow\u001b[49m\u001b[43m]\u001b[49m, m\u001b[38;5;241m.\u001b[39mindptr[row \u001b[38;5;241m+\u001b[39m \u001b[38;5;241m1\u001b[39m]):\n\u001b[1;32m     12\u001b[0m         \u001b[38;5;28;01myield\u001b[39;00m m\u001b[38;5;241m.\u001b[39mindices[index], m\u001b[38;5;241m.\u001b[39mdata[index]\n",
      "\u001b[0;31mIndexError\u001b[0m: index 224686 is out of bounds for axis 0 with size 2"
     ]
    }
   ],
   "source": [
    "total_score, top_contributions, user_weights = als_model.explain(\n",
    "    userid=users_mapping[546862], \n",
    "    user_items=interaction_csr[users_mapping[546862], :], \n",
    "    itemid=items_inv_mapping[154], \n",
    "    N=1,    \n",
    ")"
   ]
  },
  {
   "cell_type": "code",
   "execution_count": 80,
   "id": "cf784db4",
   "metadata": {},
   "outputs": [
    {
     "data": {
      "text/plain": [
       "0.22499938984518295"
      ]
     },
     "execution_count": 80,
     "metadata": {},
     "output_type": "execute_result"
    }
   ],
   "source": [
    "total_score"
   ]
  },
  {
   "cell_type": "code",
   "execution_count": 81,
   "id": "5de9547e",
   "metadata": {},
   "outputs": [
    {
     "data": {
      "text/plain": [
       "[(0, 0.03912313727917103)]"
      ]
     },
     "execution_count": 81,
     "metadata": {},
     "output_type": "execute_result"
    }
   ],
   "source": [
    "top_contributions"
   ]
  },
  {
   "cell_type": "code",
   "execution_count": 1,
   "id": "8479260a",
   "metadata": {},
   "outputs": [],
   "source": [
    "import numpy as np"
   ]
  },
  {
   "cell_type": "code",
   "execution_count": 31,
   "id": "5898effb",
   "metadata": {},
   "outputs": [
    {
     "data": {
      "text/plain": [
       "2"
      ]
     },
     "execution_count": 31,
     "metadata": {},
     "output_type": "execute_result"
    }
   ],
   "source": [
    "np.random.randint(1, 3)"
   ]
  }
 ],
 "metadata": {
  "kernelspec": {
   "display_name": "Python 3 (ipykernel)",
   "language": "python",
   "name": "python3"
  },
  "language_info": {
   "codemirror_mode": {
    "name": "ipython",
    "version": 3
   },
   "file_extension": ".py",
   "mimetype": "text/x-python",
   "name": "python",
   "nbconvert_exporter": "python",
   "pygments_lexer": "ipython3",
   "version": "3.9.16"
  }
 },
 "nbformat": 4,
 "nbformat_minor": 5
}
